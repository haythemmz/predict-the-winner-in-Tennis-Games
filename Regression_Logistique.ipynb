{
 "cells": [
  {
   "cell_type": "markdown",
   "metadata": {},
   "source": [
    "# Dans ce  fichier nous appliquons la régression logistique  avec Scikit-Learn"
   ]
  },
  {
   "cell_type": "code",
   "execution_count": 8,
   "metadata": {},
   "outputs": [],
   "source": [
    "import pandas as pd \n",
    "import matplotlib.pyplot as plt\n",
    "from sklearn.preprocessing import StandardScaler\n",
    "from sklearn.preprocessing import robust_scale\n",
    "from sklearn.preprocessing import scale\n",
    "#from sklearn.cross_validation import train_test_split\n",
    "import numpy as np\n",
    "from sklearn.linear_model import LogisticRegression\n",
    "from sklearn.cross_validation import KFold\n",
    "from sklearn.metrics import confusion_matrix\n",
    "from sklearn import svm\n",
    "import pickle\n",
    "\n",
    "\n",
    "%matplotlib  inline"
   ]
  },
  {
   "cell_type": "code",
   "execution_count": 3,
   "metadata": {},
   "outputs": [],
   "source": [
    "df=pd.read_csv('donnee/data.csv',header=0,index_col=0)\n",
    "X= df.iloc[:,4:-1]\n",
    "names = X.columns\n",
    "X=X.values\n",
    "Y= np.random.choice(2, X.shape[0]).reshape(X.shape[0],1)\n",
    "for i in range(len(Y)):\n",
    "    if Y[i]==0:\n",
    "        X[i,:]=-X[i,:]\n",
    "X=robust_scale(X)\n",
    "scaled_df = pd.DataFrame(X, columns=names)"
   ]
  },
  {
   "cell_type": "code",
   "execution_count": 4,
   "metadata": {},
   "outputs": [
    {
     "data": {
      "text/html": [
       "<div>\n",
       "<style scoped>\n",
       "    .dataframe tbody tr th:only-of-type {\n",
       "        vertical-align: middle;\n",
       "    }\n",
       "\n",
       "    .dataframe tbody tr th {\n",
       "        vertical-align: top;\n",
       "    }\n",
       "\n",
       "    .dataframe thead th {\n",
       "        text-align: right;\n",
       "    }\n",
       "</style>\n",
       "<table border=\"1\" class=\"dataframe\">\n",
       "  <thead>\n",
       "    <tr style=\"text-align: right;\">\n",
       "      <th></th>\n",
       "      <th>DF_ACE</th>\n",
       "      <th>AVR_DF</th>\n",
       "      <th>DF_PFS</th>\n",
       "      <th>DF_PSS</th>\n",
       "      <th>WIN</th>\n",
       "      <th>Break</th>\n",
       "      <th>H2H</th>\n",
       "      <th>DF_POINT</th>\n",
       "      <th>DF_RANK</th>\n",
       "      <th>PPM</th>\n",
       "      <th>complet</th>\n",
       "    </tr>\n",
       "  </thead>\n",
       "  <tbody>\n",
       "    <tr>\n",
       "      <th>count</th>\n",
       "      <td>71679.000000</td>\n",
       "      <td>71679.000000</td>\n",
       "      <td>71679.000000</td>\n",
       "      <td>71679.000000</td>\n",
       "      <td>71679.000000</td>\n",
       "      <td>71679.000000</td>\n",
       "      <td>71679.000000</td>\n",
       "      <td>71679.000000</td>\n",
       "      <td>71679.000000</td>\n",
       "      <td>71679.000000</td>\n",
       "      <td>71679.000000</td>\n",
       "    </tr>\n",
       "    <tr>\n",
       "      <th>mean</th>\n",
       "      <td>0.001176</td>\n",
       "      <td>0.000494</td>\n",
       "      <td>-0.002202</td>\n",
       "      <td>-0.001860</td>\n",
       "      <td>0.001718</td>\n",
       "      <td>-0.003072</td>\n",
       "      <td>0.000014</td>\n",
       "      <td>-0.021313</td>\n",
       "      <td>-0.008660</td>\n",
       "      <td>-0.000323</td>\n",
       "      <td>0.004026</td>\n",
       "    </tr>\n",
       "    <tr>\n",
       "      <th>std</th>\n",
       "      <td>0.920799</td>\n",
       "      <td>0.865012</td>\n",
       "      <td>1.074329</td>\n",
       "      <td>1.314044</td>\n",
       "      <td>1.306124</td>\n",
       "      <td>1.478044</td>\n",
       "      <td>0.003735</td>\n",
       "      <td>8.870847</td>\n",
       "      <td>1.350738</td>\n",
       "      <td>1.009156</td>\n",
       "      <td>1.180416</td>\n",
       "    </tr>\n",
       "    <tr>\n",
       "      <th>min</th>\n",
       "      <td>-5.536034</td>\n",
       "      <td>-9.304041</td>\n",
       "      <td>-17.202609</td>\n",
       "      <td>-13.369853</td>\n",
       "      <td>-5.972396</td>\n",
       "      <td>-12.167514</td>\n",
       "      <td>0.000000</td>\n",
       "      <td>-96.560284</td>\n",
       "      <td>-4.497487</td>\n",
       "      <td>-9.703118</td>\n",
       "      <td>-6.921733</td>\n",
       "    </tr>\n",
       "    <tr>\n",
       "      <th>25%</th>\n",
       "      <td>-0.495979</td>\n",
       "      <td>-0.498851</td>\n",
       "      <td>-0.503284</td>\n",
       "      <td>-0.501293</td>\n",
       "      <td>-0.497700</td>\n",
       "      <td>-0.502159</td>\n",
       "      <td>-0.000000</td>\n",
       "      <td>-0.489362</td>\n",
       "      <td>-0.512563</td>\n",
       "      <td>-0.503398</td>\n",
       "      <td>-0.495726</td>\n",
       "    </tr>\n",
       "    <tr>\n",
       "      <th>50%</th>\n",
       "      <td>0.000000</td>\n",
       "      <td>0.000000</td>\n",
       "      <td>0.000000</td>\n",
       "      <td>-0.000000</td>\n",
       "      <td>0.000000</td>\n",
       "      <td>0.000000</td>\n",
       "      <td>0.000000</td>\n",
       "      <td>0.000000</td>\n",
       "      <td>0.000000</td>\n",
       "      <td>0.000000</td>\n",
       "      <td>0.000000</td>\n",
       "    </tr>\n",
       "    <tr>\n",
       "      <th>75%</th>\n",
       "      <td>0.504021</td>\n",
       "      <td>0.501149</td>\n",
       "      <td>0.496716</td>\n",
       "      <td>0.498707</td>\n",
       "      <td>0.502300</td>\n",
       "      <td>0.497841</td>\n",
       "      <td>-0.000000</td>\n",
       "      <td>0.510638</td>\n",
       "      <td>0.487437</td>\n",
       "      <td>0.496602</td>\n",
       "      <td>0.504274</td>\n",
       "    </tr>\n",
       "    <tr>\n",
       "      <th>max</th>\n",
       "      <td>6.083614</td>\n",
       "      <td>9.356227</td>\n",
       "      <td>7.335086</td>\n",
       "      <td>11.514279</td>\n",
       "      <td>5.972396</td>\n",
       "      <td>12.167514</td>\n",
       "      <td>1.000000</td>\n",
       "      <td>96.574468</td>\n",
       "      <td>4.502513</td>\n",
       "      <td>33.714922</td>\n",
       "      <td>6.834715</td>\n",
       "    </tr>\n",
       "  </tbody>\n",
       "</table>\n",
       "</div>"
      ],
      "text/plain": [
       "             DF_ACE        AVR_DF        DF_PFS        DF_PSS           WIN  \\\n",
       "count  71679.000000  71679.000000  71679.000000  71679.000000  71679.000000   \n",
       "mean       0.001176      0.000494     -0.002202     -0.001860      0.001718   \n",
       "std        0.920799      0.865012      1.074329      1.314044      1.306124   \n",
       "min       -5.536034     -9.304041    -17.202609    -13.369853     -5.972396   \n",
       "25%       -0.495979     -0.498851     -0.503284     -0.501293     -0.497700   \n",
       "50%        0.000000      0.000000      0.000000     -0.000000      0.000000   \n",
       "75%        0.504021      0.501149      0.496716      0.498707      0.502300   \n",
       "max        6.083614      9.356227      7.335086     11.514279      5.972396   \n",
       "\n",
       "              Break           H2H      DF_POINT       DF_RANK           PPM  \\\n",
       "count  71679.000000  71679.000000  71679.000000  71679.000000  71679.000000   \n",
       "mean      -0.003072      0.000014     -0.021313     -0.008660     -0.000323   \n",
       "std        1.478044      0.003735      8.870847      1.350738      1.009156   \n",
       "min      -12.167514      0.000000    -96.560284     -4.497487     -9.703118   \n",
       "25%       -0.502159     -0.000000     -0.489362     -0.512563     -0.503398   \n",
       "50%        0.000000      0.000000      0.000000      0.000000      0.000000   \n",
       "75%        0.497841     -0.000000      0.510638      0.487437      0.496602   \n",
       "max       12.167514      1.000000     96.574468      4.502513     33.714922   \n",
       "\n",
       "            complet  \n",
       "count  71679.000000  \n",
       "mean       0.004026  \n",
       "std        1.180416  \n",
       "min       -6.921733  \n",
       "25%       -0.495726  \n",
       "50%        0.000000  \n",
       "75%        0.504274  \n",
       "max        6.834715  "
      ]
     },
     "execution_count": 4,
     "metadata": {},
     "output_type": "execute_result"
    }
   ],
   "source": [
    "scaled_df.describe()"
   ]
  },
  {
   "cell_type": "code",
   "execution_count": 5,
   "metadata": {},
   "outputs": [
    {
     "data": {
      "text/plain": [
       "(17920, 1)"
      ]
     },
     "execution_count": 5,
     "metadata": {},
     "output_type": "execute_result"
    }
   ],
   "source": [
    "X_train, X_test, y_train, y_test = train_test_split(X,Y, random_state=0,test_size=0.25)\n",
    "y_test.shape"
   ]
  },
  {
   "cell_type": "code",
   "execution_count": 10,
   "metadata": {},
   "outputs": [
    {
     "name": "stderr",
     "output_type": "stream",
     "text": [
      "/home/balha/.local/lib/python3.5/site-packages/sklearn/utils/validation.py:578: DataConversionWarning: A column-vector y was passed when a 1d array was expected. Please change the shape of y to (n_samples, ), for example using ravel().\n",
      "  y = column_or_1d(y, warn=True)\n"
     ]
    }
   ],
   "source": [
    "classifier_Logistic = LogisticRegression(random_state=0)\n",
    "classifier_Logistic.fit(X_train, y_train)\n",
    "y_pred = classifier_Logistic.predict(X_test)\n",
    "cfm = confusion_matrix(y_test, y_pred)\n",
    "filename = 'finalized_Logistic.sav'\n",
    "pickle.dump(classifier_Logistic, open(filename, 'wb'))"
   ]
  },
  {
   "cell_type": "code",
   "execution_count": 11,
   "metadata": {},
   "outputs": [
    {
     "name": "stdout",
     "output_type": "stream",
     "text": [
      "[[6221 2720]\n",
      " [2523 6456]]\n"
     ]
    }
   ],
   "source": [
    "print(cfm)"
   ]
  },
  {
   "cell_type": "code",
   "execution_count": null,
   "metadata": {},
   "outputs": [],
   "source": []
  }
 ],
 "metadata": {
  "kernelspec": {
   "display_name": "Python 3",
   "language": "python",
   "name": "python3"
  },
  "language_info": {
   "codemirror_mode": {
    "name": "ipython",
    "version": 3
   },
   "file_extension": ".py",
   "mimetype": "text/x-python",
   "name": "python",
   "nbconvert_exporter": "python",
   "pygments_lexer": "ipython3",
   "version": "3.5.2"
  }
 },
 "nbformat": 4,
 "nbformat_minor": 2
}
