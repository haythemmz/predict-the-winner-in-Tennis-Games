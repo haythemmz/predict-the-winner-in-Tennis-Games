{
 "cells": [
  {
   "cell_type": "code",
   "execution_count": null,
   "metadata": {},
   "outputs": [],
   "source": [
    "import pandas as pd \n",
    "import matplotlib.pyplot as plt\n",
    "from sklearn.preprocessing import StandardScaler\n",
    "from sklearn.preprocessing import robust_scale\n",
    "from sklearn.preprocessing import scale\n",
    "from sklearn.cross_validation import train_test_split\n",
    "import numpy as np\n",
    "from sklearn.linear_model import LogisticRegression\n",
    "from sklearn.cross_validation import KFold\n",
    "from sklearn.metrics import confusion_matrix\n",
    "from sklearn import svm\n",
    "import pickle\n",
    "\n",
    "\n",
    "%matplotlib  inline"
   ]
  },
  {
   "cell_type": "code",
   "execution_count": 11,
   "metadata": {},
   "outputs": [],
   "source": [
    "df=pd.read_csv('donnee/data.csv',header=0,index_col=0)\n"
   ]
  },
  {
   "cell_type": "code",
   "execution_count": 12,
   "metadata": {},
   "outputs": [],
   "source": [
    "# extraction des donnes à partir du fichier CSV \n",
    "X= df.iloc[:,4:-1]\n",
    "names = X.columns\n",
    "X=X.values\n",
    "# création des classes dont le premier joueur est le joueur perdu \n",
    "Y=np.random.choice(2, X.shape[0])\n",
    "for i in range(len(Y)):\n",
    "    if Y[i]==0:\n",
    "        X[i,:]=-X[i,:]\n",
    "# standardisation des données: transformation robuste aux outliars \n",
    "X=robust_scale(X)\n",
    "scaled_df = pd.DataFrame(X, columns=names)\n"
   ]
  },
  {
   "cell_type": "code",
   "execution_count": 5,
   "metadata": {},
   "outputs": [
    {
     "data": {
      "text/html": [
       "<div>\n",
       "<style scoped>\n",
       "    .dataframe tbody tr th:only-of-type {\n",
       "        vertical-align: middle;\n",
       "    }\n",
       "\n",
       "    .dataframe tbody tr th {\n",
       "        vertical-align: top;\n",
       "    }\n",
       "\n",
       "    .dataframe thead th {\n",
       "        text-align: right;\n",
       "    }\n",
       "</style>\n",
       "<table border=\"1\" class=\"dataframe\">\n",
       "  <thead>\n",
       "    <tr style=\"text-align: right;\">\n",
       "      <th></th>\n",
       "      <th>DF_ACE</th>\n",
       "      <th>AVR_DF</th>\n",
       "      <th>DF_PFS</th>\n",
       "      <th>DF_PSS</th>\n",
       "      <th>WIN</th>\n",
       "      <th>Break</th>\n",
       "      <th>H2H</th>\n",
       "      <th>DF_POINT</th>\n",
       "      <th>DF_RANK</th>\n",
       "      <th>PPM</th>\n",
       "      <th>complet</th>\n",
       "    </tr>\n",
       "  </thead>\n",
       "  <tbody>\n",
       "    <tr>\n",
       "      <th>count</th>\n",
       "      <td>71679.000000</td>\n",
       "      <td>71679.000000</td>\n",
       "      <td>71679.000000</td>\n",
       "      <td>71679.000000</td>\n",
       "      <td>71679.000000</td>\n",
       "      <td>71679.000000</td>\n",
       "      <td>71679.000000</td>\n",
       "      <td>71679.000000</td>\n",
       "      <td>71679.000000</td>\n",
       "      <td>71679.000000</td>\n",
       "      <td>71679.000000</td>\n",
       "    </tr>\n",
       "    <tr>\n",
       "      <th>mean</th>\n",
       "      <td>0.000694</td>\n",
       "      <td>-0.003471</td>\n",
       "      <td>0.001554</td>\n",
       "      <td>-0.000963</td>\n",
       "      <td>0.002920</td>\n",
       "      <td>0.004072</td>\n",
       "      <td>0.000014</td>\n",
       "      <td>-0.009898</td>\n",
       "      <td>-0.003128</td>\n",
       "      <td>0.000599</td>\n",
       "      <td>-0.001363</td>\n",
       "    </tr>\n",
       "    <tr>\n",
       "      <th>std</th>\n",
       "      <td>0.920684</td>\n",
       "      <td>0.864851</td>\n",
       "      <td>1.074191</td>\n",
       "      <td>1.314783</td>\n",
       "      <td>1.311259</td>\n",
       "      <td>1.479503</td>\n",
       "      <td>0.003735</td>\n",
       "      <td>8.870867</td>\n",
       "      <td>1.350762</td>\n",
       "      <td>1.009637</td>\n",
       "      <td>1.181090</td>\n",
       "    </tr>\n",
       "    <tr>\n",
       "      <th>min</th>\n",
       "      <td>-6.083019</td>\n",
       "      <td>-9.354565</td>\n",
       "      <td>-8.507118</td>\n",
       "      <td>-12.053007</td>\n",
       "      <td>-5.995886</td>\n",
       "      <td>-12.180156</td>\n",
       "      <td>-0.000000</td>\n",
       "      <td>-96.560284</td>\n",
       "      <td>-4.497487</td>\n",
       "      <td>-33.726135</td>\n",
       "      <td>-6.925220</td>\n",
       "    </tr>\n",
       "    <tr>\n",
       "      <th>25%</th>\n",
       "      <td>-0.499987</td>\n",
       "      <td>-0.500108</td>\n",
       "      <td>-0.496805</td>\n",
       "      <td>-0.500030</td>\n",
       "      <td>-0.499657</td>\n",
       "      <td>-0.499853</td>\n",
       "      <td>0.000000</td>\n",
       "      <td>-0.496454</td>\n",
       "      <td>-0.502513</td>\n",
       "      <td>-0.496830</td>\n",
       "      <td>-0.502592</td>\n",
       "    </tr>\n",
       "    <tr>\n",
       "      <th>50%</th>\n",
       "      <td>0.000000</td>\n",
       "      <td>0.000000</td>\n",
       "      <td>0.000000</td>\n",
       "      <td>0.000000</td>\n",
       "      <td>0.000000</td>\n",
       "      <td>0.000000</td>\n",
       "      <td>0.000000</td>\n",
       "      <td>0.000000</td>\n",
       "      <td>-0.000000</td>\n",
       "      <td>0.000000</td>\n",
       "      <td>0.000000</td>\n",
       "    </tr>\n",
       "    <tr>\n",
       "      <th>75%</th>\n",
       "      <td>0.500013</td>\n",
       "      <td>0.499892</td>\n",
       "      <td>0.503195</td>\n",
       "      <td>0.499970</td>\n",
       "      <td>0.500343</td>\n",
       "      <td>0.500147</td>\n",
       "      <td>0.000000</td>\n",
       "      <td>0.503546</td>\n",
       "      <td>0.497487</td>\n",
       "      <td>0.503170</td>\n",
       "      <td>0.497408</td>\n",
       "    </tr>\n",
       "    <tr>\n",
       "      <th>max</th>\n",
       "      <td>5.535165</td>\n",
       "      <td>9.302389</td>\n",
       "      <td>17.206281</td>\n",
       "      <td>13.380321</td>\n",
       "      <td>5.995886</td>\n",
       "      <td>12.178967</td>\n",
       "      <td>1.000000</td>\n",
       "      <td>96.574468</td>\n",
       "      <td>4.502513</td>\n",
       "      <td>7.954425</td>\n",
       "      <td>6.733332</td>\n",
       "    </tr>\n",
       "  </tbody>\n",
       "</table>\n",
       "</div>"
      ],
      "text/plain": [
       "             DF_ACE        AVR_DF        DF_PFS        DF_PSS           WIN  \\\n",
       "count  71679.000000  71679.000000  71679.000000  71679.000000  71679.000000   \n",
       "mean       0.000694     -0.003471      0.001554     -0.000963      0.002920   \n",
       "std        0.920684      0.864851      1.074191      1.314783      1.311259   \n",
       "min       -6.083019     -9.354565     -8.507118    -12.053007     -5.995886   \n",
       "25%       -0.499987     -0.500108     -0.496805     -0.500030     -0.499657   \n",
       "50%        0.000000      0.000000      0.000000      0.000000      0.000000   \n",
       "75%        0.500013      0.499892      0.503195      0.499970      0.500343   \n",
       "max        5.535165      9.302389     17.206281     13.380321      5.995886   \n",
       "\n",
       "              Break           H2H      DF_POINT       DF_RANK           PPM  \\\n",
       "count  71679.000000  71679.000000  71679.000000  71679.000000  71679.000000   \n",
       "mean       0.004072      0.000014     -0.009898     -0.003128      0.000599   \n",
       "std        1.479503      0.003735      8.870867      1.350762      1.009637   \n",
       "min      -12.180156     -0.000000    -96.560284     -4.497487    -33.726135   \n",
       "25%       -0.499853      0.000000     -0.496454     -0.502513     -0.496830   \n",
       "50%        0.000000      0.000000      0.000000     -0.000000      0.000000   \n",
       "75%        0.500147      0.000000      0.503546      0.497487      0.503170   \n",
       "max       12.178967      1.000000     96.574468      4.502513      7.954425   \n",
       "\n",
       "            complet  \n",
       "count  71679.000000  \n",
       "mean      -0.001363  \n",
       "std        1.181090  \n",
       "min       -6.925220  \n",
       "25%       -0.502592  \n",
       "50%        0.000000  \n",
       "75%        0.497408  \n",
       "max        6.733332  "
      ]
     },
     "execution_count": 5,
     "metadata": {},
     "output_type": "execute_result"
    }
   ],
   "source": [
    "scaled_df.describe()\n"
   ]
  },
  {
   "cell_type": "markdown",
   "metadata": {},
   "source": [
    "Après la  standardisation des données, toutes les variables suivent la loi normale dont la  moyenne proche de zéro et écart-type proche de 1 "
   ]
  },
  {
   "cell_type": "code",
   "execution_count": 6,
   "metadata": {},
   "outputs": [
    {
     "data": {
      "text/plain": [
       "(17920,)"
      ]
     },
     "execution_count": 6,
     "metadata": {},
     "output_type": "execute_result"
    }
   ],
   "source": [
    "# \n",
    "X_train, X_test, y_train, y_test = train_test_split(X,Y, random_state=0,test_size=0.25)\n",
    "y_test.shape"
   ]
  },
  {
   "cell_type": "markdown",
   "metadata": {},
   "source": [
    "Séparation des données en entrainement et test"
   ]
  },
  {
   "cell_type": "code",
   "execution_count": null,
   "metadata": {},
   "outputs": [],
   "source": [
    "# entrainement du model \n",
    "classifier_svm = svm.SVC(random_state=0)\n",
    "classifier_svm.fit(X_train, y_train)\n",
    "y_pred = classifier_svm.predict(X_test)\n"
   ]
  },
  {
   "cell_type": "code",
   "execution_count": 7,
   "metadata": {},
   "outputs": [
    {
     "data": {
      "text/plain": [
       "array([[6414, 2636],\n",
       "       [2595, 6275]])"
      ]
     },
     "execution_count": 7,
     "metadata": {},
     "output_type": "execute_result"
    }
   ],
   "source": [
    "cm = confusion_matrix(y_test, y_pred)\n",
    "cm"
   ]
  },
  {
   "cell_type": "code",
   "execution_count": null,
   "metadata": {},
   "outputs": [],
   "source": []
  },
  {
   "cell_type": "code",
   "execution_count": null,
   "metadata": {},
   "outputs": [],
   "source": [
    "filename = 'finalized_Logistic.sav'\n",
    "pickle.dump(model, open(filename, 'wb'))"
   ]
  },
  {
   "cell_type": "code",
   "execution_count": null,
   "metadata": {},
   "outputs": [],
   "source": []
  }
 ],
 "metadata": {
  "kernelspec": {
   "display_name": "Python 3",
   "language": "python",
   "name": "python3"
  },
  "language_info": {
   "codemirror_mode": {
    "name": "ipython",
    "version": 3
   },
   "file_extension": ".py",
   "mimetype": "text/x-python",
   "name": "python",
   "nbconvert_exporter": "python",
   "pygments_lexer": "ipython3",
   "version": "3.5.2"
  }
 },
 "nbformat": 4,
 "nbformat_minor": 2
}
